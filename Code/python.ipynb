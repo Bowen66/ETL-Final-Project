{
 "cells": [
  {
   "cell_type": "code",
   "execution_count": 14,
   "metadata": {},
   "outputs": [],
   "source": [
    "from mpl_toolkits.mplot3d import Axes3D\n",
    "from sklearn.preprocessing import StandardScaler\n",
    "import matplotlib.pyplot as plt ## plotting\n",
    "import numpy as np ## Linear algebra\n",
    "import os ## mengakses struktur direktori (accessing directory structure)\n",
    "import pandas as pd ## pemrosesan data, I/O file CSV (mis. pd.read_csv) (data processing, CSV file I/O (e.g. pd.read_csv))\n",
    "import json"
   ]
  },
  {
   "cell_type": "code",
   "execution_count": 15,
   "metadata": {},
   "outputs": [],
   "source": [
    "def export_to_csv():\n",
    "    file_path = '/Users/Bowen/Downloads/Final_Project/data_transformation/yelp-dataset/yelp_academic_dataset_business.json'\n",
    "    with open(file_path) as f:\n",
    "        data = [json.loads(line) for line in f]\n",
    "        df = pd.json_normalize(data)\n",
    "        df = df.dropna(how='all', axis=1)\n",
    "        df.to_csv('/Users/Bowen/Downloads/Final_Project/data_transformation/business.csv', index=False)\n",
    "\n",
    "export_to_csv()\n"
   ]
  },
  {
   "cell_type": "code",
   "execution_count": 21,
   "metadata": {},
   "outputs": [
    {
     "name": "stdout",
     "output_type": "stream",
     "text": [
      "0    None\n",
      "1    None\n",
      "2    None\n",
      "3    None\n",
      "4    None\n",
      "Name: subheader, dtype: object\n"
     ]
    }
   ],
   "source": [
    "import json\n",
    "import pandas as pd\n",
    "\n",
    "def export_to_csv():\n",
    "    file_path = '/Users/Bowen/Downloads/Final_Project/data_transformation/yelp-dataset/yelp_academic_dataset_business.json'\n",
    "    with open(file_path) as f:\n",
    "        list1 = []\n",
    "        data = [json.loads(line) for line in f] \n",
    "        temp = data[0]\n",
    "        get_header_items(list1, temp)\n",
    "        header_items = [list1[0][0]]\n",
    "        subheader_items = [list1[0][1]]\n",
    "        for item in list1[1:]:\n",
    "            header_items.append(item[0])\n",
    "            subheader_items.append(item[1])\n",
    "        df = pd.DataFrame({'header': header_items, 'subheader': subheader_items})\n",
    "        print(df.head().subheader)\n",
    "\n",
    "def get_header_items(items, obj, parent=None):\n",
    "    for x in obj.keys():\n",
    "        if isinstance(obj[x], dict):\n",
    "            if parent:\n",
    "                items.append((parent, x))\n",
    "            else:\n",
    "                items.append((x, None))\n",
    "            get_header_items(items, obj[x], x)\n",
    "        else:\n",
    "            if parent:\n",
    "                items.append((parent, x))\n",
    "            else:\n",
    "                items.append((x, None))\n",
    "\n",
    "export_to_csv()\n"
   ]
  }
 ],
 "metadata": {
  "kernelspec": {
   "display_name": "base",
   "language": "python",
   "name": "python3"
  },
  "language_info": {
   "codemirror_mode": {
    "name": "ipython",
    "version": 3
   },
   "file_extension": ".py",
   "mimetype": "text/x-python",
   "name": "python",
   "nbconvert_exporter": "python",
   "pygments_lexer": "ipython3",
   "version": "3.9.13 (main, Aug 25 2022, 18:29:29) \n[Clang 12.0.0 ]"
  },
  "orig_nbformat": 4,
  "vscode": {
   "interpreter": {
    "hash": "4587b4bd019793f4c85e76e35f2c6c661f5b9abb7c3c148f1b228f28efe70e01"
   }
  }
 },
 "nbformat": 4,
 "nbformat_minor": 2
}
